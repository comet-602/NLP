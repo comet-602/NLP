{
 "cells": [
  {
   "cell_type": "markdown",
   "metadata": {},
   "source": [
    "## 安裝 HanLP 套件"
   ]
  },
  {
   "cell_type": "markdown",
   "metadata": {},
   "source": [
    "#### https://github.com/hankcs/pyhanlp"
   ]
  },
  {
   "cell_type": "code",
   "execution_count": 1,
   "metadata": {
    "scrolled": true
   },
   "outputs": [
    {
     "name": "stdout",
     "output_type": "stream",
     "text": [
      "Collecting pyhanlp\n",
      "  Downloading pyhanlp-0.1.66.tar.gz (86 kB)\n",
      "\u001b[K     |████████████████████████████████| 86 kB 50 kB/s eta 0:00:01\n",
      "\u001b[?25hCollecting jpype1==0.7.0\n",
      "  Downloading JPype1-0.7.0.tar.gz (470 kB)\n",
      "\u001b[K     |████████████████████████████████| 470 kB 53 kB/s eta 0:00:01\n",
      "\u001b[?25hBuilding wheels for collected packages: pyhanlp, jpype1\n",
      "  Building wheel for pyhanlp (setup.py) ... \u001b[?25ldone\n",
      "\u001b[?25h  Created wheel for pyhanlp: filename=pyhanlp-0.1.66-py2.py3-none-any.whl size=29373 sha256=f5bd5a12ac583cba0f668366a586b9978202e10b2b9e61451fe401dacf3bc60b\n",
      "  Stored in directory: /home/jovyan/.cache/pip/wheels/1c/ed/88/ecc8b7e33c9d4deb2978816b355d9b11ed8a261ac56b264f73\n",
      "  Building wheel for jpype1 (setup.py) ... \u001b[?25ldone\n",
      "\u001b[?25h  Created wheel for jpype1: filename=JPype1-0.7.0-cp38-cp38-linux_x86_64.whl size=2871448 sha256=7cbf49f51d7f463f0dedf7f9400c1383531ab629c67650e9586ec60f0858a5a8\n",
      "  Stored in directory: /home/jovyan/.cache/pip/wheels/ce/e7/69/c31bff862d9bdd2a7a999760ad28f1f7dd718ef7a9468c3fa4\n",
      "Successfully built pyhanlp jpype1\n",
      "Installing collected packages: jpype1, pyhanlp\n",
      "Successfully installed jpype1-0.7.0 pyhanlp-0.1.66\n",
      "Note: you may need to restart the kernel to use updated packages.\n"
     ]
    }
   ],
   "source": [
    "pip install pyhanlp"
   ]
  },
  {
   "cell_type": "code",
   "execution_count": null,
   "metadata": {},
   "outputs": [
    {
     "name": "stdout",
     "output_type": "stream",
     "text": [
      "下载 https://file.hankcs.com/hanlp/hanlp-1.7.8-release.zip 到 /opt/conda/lib/python3.8/site-packages/pyhanlp/static/hanlp-1.7.8-release.zip\n",
      "100.00%, 1 MB, 48 KB/s, 还有 0 分  0 秒   \n",
      "下载 https://file.hankcs.com/hanlp/data-for-1.7.5.zip 到 /opt/conda/lib/python3.8/site-packages/pyhanlp/static/data-for-1.7.8.zip\n",
      "0.13%, 0 MB, 51 KB/s, 还有 210 分 21 秒   "
     ]
    }
   ],
   "source": [
    "from pyhanlp import *"
   ]
  },
  {
   "cell_type": "code",
   "execution_count": null,
   "metadata": {},
   "outputs": [],
   "source": []
  },
  {
   "cell_type": "markdown",
   "metadata": {},
   "source": [
    "## 下載繁體字的辭典檔"
   ]
  },
  {
   "cell_type": "code",
   "execution_count": 4,
   "metadata": {
    "scrolled": true
   },
   "outputs": [
    {
     "name": "stdout",
     "output_type": "stream",
     "text": [
      "--2020-07-13 08:59:04--  https://github.com/fxsjy/jieba/raw/master/extra_dict/dict.txt.big\n",
      "Resolving github.com (github.com)... 52.192.72.89\n",
      "Connecting to github.com (github.com)|52.192.72.89|:443... connected.\n",
      "HTTP request sent, awaiting response... 302 Found\n",
      "Location: https://raw.githubusercontent.com/fxsjy/jieba/master/extra_dict/dict.txt.big [following]\n",
      "--2020-07-13 08:59:05--  https://raw.githubusercontent.com/fxsjy/jieba/master/extra_dict/dict.txt.big\n",
      "Resolving raw.githubusercontent.com (raw.githubusercontent.com)... 151.101.108.133\n",
      "Connecting to raw.githubusercontent.com (raw.githubusercontent.com)|151.101.108.133|:443... connected.\n",
      "HTTP request sent, awaiting response... 200 OK\n",
      "Length: 8583143 (8.2M) [text/plain]\n",
      "Saving to: ‘jieba_data/dict.txt.big’\n",
      "\n",
      "jieba_data/dict.txt 100%[===================>]   8.18M  --.-KB/s    in 0.07s   \n",
      "\n",
      "2020-07-13 08:59:07 (118 MB/s) - ‘jieba_data/dict.txt.big’ saved [8583143/8583143]\n",
      "\n"
     ]
    }
   ],
   "source": [
    "!wget https://github.com/fxsjy/jieba/raw/master/extra_dict/dict.txt.big -O jieba_data/dict.txt.big"
   ]
  },
  {
   "cell_type": "markdown",
   "metadata": {},
   "source": [
    "## 載入 Jieba 套件"
   ]
  },
  {
   "cell_type": "code",
   "execution_count": 5,
   "metadata": {},
   "outputs": [],
   "source": [
    "import jieba"
   ]
  },
  {
   "cell_type": "markdown",
   "metadata": {},
   "source": [
    "### 檢查 Jieba 版本"
   ]
  },
  {
   "cell_type": "code",
   "execution_count": 6,
   "metadata": {},
   "outputs": [
    {
     "data": {
      "text/plain": [
       "'0.42.1'"
      ]
     },
     "execution_count": 6,
     "metadata": {},
     "output_type": "execute_result"
    }
   ],
   "source": [
    "jieba.__version__"
   ]
  },
  {
   "cell_type": "markdown",
   "metadata": {},
   "source": [
    "## 指定辭典檔"
   ]
  },
  {
   "cell_type": "code",
   "execution_count": 7,
   "metadata": {},
   "outputs": [],
   "source": [
    "jieba.set_dictionary('jieba_data/dict.txt.big')"
   ]
  },
  {
   "cell_type": "code",
   "execution_count": 43,
   "metadata": {},
   "outputs": [
    {
     "name": "stdout",
     "output_type": "stream",
     "text": [
      "1号店 3 n\r\n",
      "1號店 3 n\r\n",
      "4S店 3 n\r\n",
      "4s店 3 n\r\n",
      "AA制 3 n\r\n",
      "AB型 3 n\r\n",
      "AT&T 3 nz\r\n",
      "A型 3 n\r\n",
      "A座 3 n\r\n",
      "A股 3 n\r\n"
     ]
    }
   ],
   "source": [
    "!head -10 jieba_data/dict.txt.big"
   ]
  },
  {
   "cell_type": "markdown",
   "metadata": {},
   "source": [
    "## 斷詞簡介"
   ]
  },
  {
   "cell_type": "code",
   "execution_count": 21,
   "metadata": {},
   "outputs": [],
   "source": [
    "text_str = '今天天氣真好'"
   ]
  },
  {
   "cell_type": "code",
   "execution_count": 28,
   "metadata": {},
   "outputs": [],
   "source": [
    "?jieba.cut"
   ]
  },
  {
   "cell_type": "markdown",
   "metadata": {},
   "source": [
    "### 精確模式斷詞 (cut_all=False)"
   ]
  },
  {
   "cell_type": "code",
   "execution_count": 23,
   "metadata": {},
   "outputs": [
    {
     "name": "stderr",
     "output_type": "stream",
     "text": [
      "Building prefix dict from /home/jovyan/work/Text_wordcloud/jieba_data/dict.txt.big ...\n",
      "Dumping model to file cache /tmp/jieba.u240ff8c1e70462be159af457c3f6d652.cache\n",
      "Loading model cost 1.998 seconds.\n",
      "Prefix dict has been built successfully.\n"
     ]
    },
    {
     "name": "stdout",
     "output_type": "stream",
     "text": [
      "今天天氣 / 真 / 好\n"
     ]
    }
   ],
   "source": [
    "seg_result = jieba.cut(text_str, cut_all=False)\n",
    "print(' / '.join(list(seg_result)))"
   ]
  },
  {
   "cell_type": "markdown",
   "metadata": {},
   "source": [
    "### 全模式斷詞 (cut_all=True)"
   ]
  },
  {
   "cell_type": "code",
   "execution_count": 24,
   "metadata": {},
   "outputs": [
    {
     "name": "stdout",
     "output_type": "stream",
     "text": [
      "今天 / 今天天氣 / 天天 / 天氣 / 真好\n"
     ]
    }
   ],
   "source": [
    "seg_result = jieba.cut(text_str, cut_all=True)\n",
    "print(' / '.join(list(seg_result)))"
   ]
  },
  {
   "cell_type": "markdown",
   "metadata": {},
   "source": [
    "### 搜尋模式斷詞"
   ]
  },
  {
   "cell_type": "code",
   "execution_count": 25,
   "metadata": {},
   "outputs": [],
   "source": [
    "?jieba.cut_for_search"
   ]
  },
  {
   "cell_type": "code",
   "execution_count": 26,
   "metadata": {},
   "outputs": [
    {
     "name": "stdout",
     "output_type": "stream",
     "text": [
      "今天 / 天天 / 天氣 / 今天天氣 / 真 / 好\n"
     ]
    }
   ],
   "source": [
    "seg_result = jieba.cut_for_search(text_str, HMM=True)\n",
    "print(' / '.join(list(seg_result)))"
   ]
  },
  {
   "cell_type": "code",
   "execution_count": 27,
   "metadata": {},
   "outputs": [
    {
     "name": "stdout",
     "output_type": "stream",
     "text": [
      "今天 / 天天 / 天氣 / 今天天氣 / 真 / 好\n"
     ]
    }
   ],
   "source": [
    "seg_result = jieba.cut_for_search(text_str, HMM=False)\n",
    "print(' / '.join(list(seg_result)))"
   ]
  },
  {
   "cell_type": "markdown",
   "metadata": {},
   "source": [
    "### Paddle 模式斷詞 (use_paddle=True)"
   ]
  },
  {
   "cell_type": "code",
   "execution_count": 33,
   "metadata": {},
   "outputs": [
    {
     "name": "stderr",
     "output_type": "stream",
     "text": [
      "Paddle enabled successfully......\n"
     ]
    },
    {
     "name": "stdout",
     "output_type": "stream",
     "text": [
      "今天 / 天氣 / 真好\n"
     ]
    }
   ],
   "source": [
    "jieba.enable_paddle()\n",
    "seg_result = jieba.cut(text_str, use_paddle=True)\n",
    "print(' / '.join(list(seg_result)))"
   ]
  },
  {
   "cell_type": "markdown",
   "metadata": {},
   "source": [
    "## 詞性標註"
   ]
  },
  {
   "cell_type": "markdown",
   "metadata": {},
   "source": [
    "#### 詞性說明: https://gist.github.com/luw2007/6016931"
   ]
  },
  {
   "cell_type": "code",
   "execution_count": 31,
   "metadata": {},
   "outputs": [
    {
     "name": "stderr",
     "output_type": "stream",
     "text": [
      "Paddle enabled successfully......\n"
     ]
    },
    {
     "name": "stdout",
     "output_type": "stream",
     "text": [
      "今天, TIME\n",
      "天氣, n\n",
      "真好, a\n"
     ]
    }
   ],
   "source": [
    "import jieba.posseg as pseg\n",
    "jieba.enable_paddle()\n",
    "seg_result = pseg.lcut(text_str, use_paddle=True)\n",
    "for w, p in seg_result:\n",
    "    print(\"%s, %s\"%(w, p))"
   ]
  },
  {
   "cell_type": "markdown",
   "metadata": {},
   "source": [
    "## 自定義詞庫"
   ]
  },
  {
   "cell_type": "code",
   "execution_count": 34,
   "metadata": {},
   "outputs": [],
   "source": [
    "text_str_2 = '是在哈囉嗎?'"
   ]
  },
  {
   "cell_type": "code",
   "execution_count": 35,
   "metadata": {},
   "outputs": [
    {
     "name": "stdout",
     "output_type": "stream",
     "text": [
      "是 / 在 / 哈囉 / 嗎 / ?\n"
     ]
    }
   ],
   "source": [
    "seg_result = jieba.lcut(text_str_2)\n",
    "print(' / '.join(seg_result))"
   ]
  },
  {
   "cell_type": "code",
   "execution_count": 37,
   "metadata": {},
   "outputs": [],
   "source": [
    "jieba.load_userdict('jieba_data/mydict.txt')"
   ]
  },
  {
   "cell_type": "code",
   "execution_count": 38,
   "metadata": {},
   "outputs": [
    {
     "name": "stdout",
     "output_type": "stream",
     "text": [
      "是在哈囉 / 嗎 / ?\n"
     ]
    }
   ],
   "source": [
    "seg_result = jieba.lcut(text_str_2)\n",
    "print(' / '.join(seg_result))"
   ]
  },
  {
   "cell_type": "code",
   "execution_count": 39,
   "metadata": {},
   "outputs": [
    {
     "name": "stdout",
     "output_type": "stream",
     "text": [
      "是在哈囉"
     ]
    }
   ],
   "source": [
    "!cat jieba_data/mydict.txt"
   ]
  },
  {
   "cell_type": "markdown",
   "metadata": {},
   "source": [
    "## 停止字"
   ]
  },
  {
   "cell_type": "code",
   "execution_count": 51,
   "metadata": {},
   "outputs": [
    {
     "name": "stdout",
     "output_type": "stream",
     "text": [
      "--2020-07-13 15:58:00--  https://raw.githubusercontent.com/fxsjy/jieba/master/extra_dict/stop_words.txt\n",
      "Resolving raw.githubusercontent.com (raw.githubusercontent.com)... 151.101.228.133\n",
      "Connecting to raw.githubusercontent.com (raw.githubusercontent.com)|151.101.228.133|:443... connected.\n",
      "HTTP request sent, awaiting response... 200 OK\n",
      "Length: 222 [text/plain]\n",
      "Saving to: ‘jieba_data/stop_words.txt’\n",
      "\n",
      "jieba_data/stop_wor 100%[===================>]     222  --.-KB/s    in 0s      \n",
      "\n",
      "2020-07-13 15:58:00 (13.3 MB/s) - ‘jieba_data/stop_words.txt’ saved [222/222]\n",
      "\n"
     ]
    }
   ],
   "source": [
    "!wget https://raw.githubusercontent.com/fxsjy/jieba/master/extra_dict/stop_words.txt -O jieba_data/stop_words.txt"
   ]
  },
  {
   "cell_type": "code",
   "execution_count": 52,
   "metadata": {},
   "outputs": [
    {
     "name": "stdout",
     "output_type": "stream",
     "text": [
      "你們\r\n",
      "妳們\r\n",
      "他們\r\n",
      "她們\r\n",
      "是否"
     ]
    }
   ],
   "source": [
    "!tail -5 jieba_data/stop_words.txt"
   ]
  },
  {
   "cell_type": "code",
   "execution_count": 55,
   "metadata": {},
   "outputs": [
    {
     "data": {
      "text/plain": [
       "['the',\n",
       " 'of',\n",
       " 'is',\n",
       " 'and',\n",
       " 'to',\n",
       " 'in',\n",
       " 'that',\n",
       " 'we',\n",
       " 'for',\n",
       " 'an',\n",
       " 'are',\n",
       " 'by',\n",
       " 'be',\n",
       " 'as',\n",
       " 'on',\n",
       " 'with',\n",
       " 'can',\n",
       " 'if',\n",
       " 'from',\n",
       " 'which',\n",
       " 'you',\n",
       " 'it',\n",
       " 'this',\n",
       " 'then',\n",
       " 'at',\n",
       " 'have',\n",
       " 'all',\n",
       " 'not',\n",
       " 'one',\n",
       " 'has',\n",
       " 'or',\n",
       " 'that',\n",
       " '的',\n",
       " '了',\n",
       " '和',\n",
       " '是',\n",
       " '就',\n",
       " '都',\n",
       " '而',\n",
       " '及',\n",
       " '與',\n",
       " '著',\n",
       " '或',\n",
       " '一個',\n",
       " '沒有',\n",
       " '我們',\n",
       " '你們',\n",
       " '妳們',\n",
       " '他們',\n",
       " '她們',\n",
       " '是否']"
      ]
     },
     "execution_count": 55,
     "metadata": {},
     "output_type": "execute_result"
    }
   ],
   "source": [
    "stop_words_list = []\n",
    "with open(file='jieba_data/stop_words.txt',mode='r', encoding=\"UTF-8\") as file:\n",
    "    for line in file:\n",
    "        line = line.strip()\n",
    "        stop_words_list.append(line)\n",
    "stop_words_list"
   ]
  },
  {
   "cell_type": "code",
   "execution_count": 62,
   "metadata": {},
   "outputs": [
    {
     "data": {
      "text/plain": [
       "['我', '一位', '小學生', '，', '從小', '學習', '鋼琴', '，', '希望', '成為', 'youtuber']"
      ]
     },
     "execution_count": 62,
     "metadata": {},
     "output_type": "execute_result"
    }
   ],
   "source": [
    "text_str_3 = '我是一位小學生，從小學習鋼琴，希望成為youtuber'\n",
    "seg_result = jieba.lcut(text_str_3)\n",
    "seg_result_stopword = []\n",
    "for term in seg_result:\n",
    "    if term not in stop_words_list:\n",
    "        seg_result_stopword.append(term)\n",
    "seg_result_stopword"
   ]
  },
  {
   "cell_type": "markdown",
   "metadata": {},
   "source": [
    "## 其他"
   ]
  },
  {
   "cell_type": "code",
   "execution_count": 47,
   "metadata": {},
   "outputs": [
    {
     "name": "stdout",
     "output_type": "stream",
     "text": [
      "dict.txt\n"
     ]
    }
   ],
   "source": [
    "print(jieba.DEFAULT_DICT_NAME)\n",
    "# check jieba/jieba/__init__.py"
   ]
  }
 ],
 "metadata": {
  "kernelspec": {
   "display_name": "Python 3",
   "language": "python",
   "name": "python3"
  },
  "language_info": {
   "codemirror_mode": {
    "name": "ipython",
    "version": 3
   },
   "file_extension": ".py",
   "mimetype": "text/x-python",
   "name": "python",
   "nbconvert_exporter": "python",
   "pygments_lexer": "ipython3",
   "version": "3.8.4"
  }
 },
 "nbformat": 4,
 "nbformat_minor": 4
}
